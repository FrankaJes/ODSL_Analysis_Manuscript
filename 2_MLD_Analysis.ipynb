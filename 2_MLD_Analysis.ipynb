{
 "cells": [
  {
   "cell_type": "code",
   "execution_count": 1,
   "metadata": {},
   "outputs": [],
   "source": [
    "import numpy as np\n",
    "import xarray as xr\n",
    "import pandas as pd"
   ]
  },
  {
   "cell_type": "code",
   "execution_count": null,
   "metadata": {},
   "outputs": [],
   "source": [
    "CMIP5_MLD = xr.open_dataset('Data/CMIP5_spatial_MLD.nc').sortby('model')\n",
    "CMIP6_MLD = xr.open_dataset('Data/CMIP6_spatial_MLD.nc').sortby('model')"
   ]
  },
  {
   "cell_type": "code",
   "execution_count": null,
   "metadata": {},
   "outputs": [],
   "source": [
    "# Labrador Sea\n",
    "lats_LS = np.arange( 50.5, 64.5)\n",
    "lons_LS = np.arange(-61.5,-34.5)\n",
    "\n",
    "lats_GS = np.arange( 65.5, 80.5)\n",
    "lons_GS = np.arange(-10.5, 15.5)\n",
    "\n",
    "lats_IS = np.arange( 50.5, 67.5)\n",
    "lons_IS = np.arange(-34.5,  0.5)"
   ]
  },
  {
   "cell_type": "code",
   "execution_count": null,
   "metadata": {},
   "outputs": [],
   "source": [
    "CMIP5_MLD_LS = CMIP5_MLD.sel(lat=lats_LS, lon=lons_LS)\n",
    "CMIP5_MLD_GS = CMIP5_MLD.sel(lat=lats_GS, lon=lons_GS)\n",
    "CMIP5_MLD_IS = CMIP5_MLD.sel(lat=lats_IS, lon=lons_IS)\n",
    "\n",
    "data_CMIP5 = {'Model': CMIP5_MLD.model.values, 'LS_mean':CMIP5_MLD_LS.MLD.mean(dim=['lat','lon']).values, \n",
    "              'GS_mean':CMIP5_MLD_GS.MLD.mean(dim=['lat','lon']).values, 'IS_mean': CMIP5_MLD_IS.MLD.mean(dim=['lat','lon']).values, \n",
    "              'LS_max': CMIP5_MLD_LS.MLD.max(dim=['lat','lon']).values,  'GS_max':CMIP5_MLD_GS.MLD.max(dim=['lat','lon']).values,\n",
    "              'IS_max':CMIP5_MLD_IS.MLD.max(dim=['lat','lon']).values }\n",
    "df5 = pd.DataFrame(data = data_CMIP5)\n",
    "df5.round(2)\n",
    "df5.set_index('Model')\n",
    "\n",
    "df5['region_mean'] = df5[['LS_mean','GS_mean','IS_mean']].idxmax(axis=1)\n",
    "df5['region_max']  = df5[['LS_max','GS_max','IS_max']].idxmax(axis=1)\n",
    "\n",
    "df5['GL_mean>160'] = df5['GS_mean']>160\n",
    "df5['GL_mean>170'] = df5['GS_mean']>170\n",
    "df5['GL_mean>180'] = df5['GS_mean']>180\n",
    "df5['GL_mean>190'] = df5['GS_mean']>190\n",
    "\n",
    "df5"
   ]
  },
  {
   "cell_type": "code",
   "execution_count": null,
   "metadata": {},
   "outputs": [],
   "source": [
    "df5.to_csv('Results_MLD/Regional_MLD_CMIP5.csv')"
   ]
  },
  {
   "cell_type": "code",
   "execution_count": null,
   "metadata": {},
   "outputs": [],
   "source": [
    "CMIP6_MLD_LS = CMIP6_MLD.sel(lat=lats_LS, lon=lons_LS)\n",
    "CMIP6_MLD_GS = CMIP6_MLD.sel(lat=lats_GS, lon=lons_GS)\n",
    "CMIP6_MLD_IS = CMIP6_MLD.sel(lat=lats_IS, lon=lons_IS)\n",
    "\n",
    "data_CMIP6 = {'Model': CMIP6_MLD.model.values, 'LS_mean':CMIP6_MLD_LS.MLD.mean(dim=['lat','lon']).values, \n",
    "              'GS_mean':CMIP6_MLD_GS.MLD.mean(dim=['lat','lon']).values, 'IS_mean': CMIP6_MLD_IS.MLD.mean(dim=['lat','lon']).values, \n",
    "              'LS_max': CMIP6_MLD_LS.MLD.max(dim=['lat','lon']).values,  'GS_max':CMIP6_MLD_GS.MLD.max(dim=['lat','lon']).values,\n",
    "              'IS_max':CMIP6_MLD_IS.MLD.max(dim=['lat','lon']).values }\n",
    "df6 = pd.DataFrame(data = data_CMIP6)\n",
    "df6.round(2)\n",
    "df6.set_index('Model')\n",
    "\n",
    "df6['region_mean'] = df6[['LS_mean','GS_mean','IS_mean']].idxmax(axis=1)\n",
    "df6['region_max']  = df6[['LS_max','GS_max','IS_max']].idxmax(axis=1)\n",
    "\n",
    "df6['GL_mean>160'] = df6['GS_mean']>160\n",
    "df6['GL_mean>170'] = df6['GS_mean']>170\n",
    "df6['GL_mean>180'] = df6['GS_mean']>180\n",
    "df6['GL_mean>190'] = df6['GS_mean']>190\n",
    "\n",
    "df6"
   ]
  },
  {
   "cell_type": "code",
   "execution_count": null,
   "metadata": {},
   "outputs": [],
   "source": [
    "df6.to_csv('Results_MLD/Regional_MLD_CMIP6.csv')"
   ]
  }
 ],
 "metadata": {
  "kernelspec": {
   "display_name": "firstEnv",
   "language": "python",
   "name": "firstenv"
  },
  "orig_nbformat": 4,
  "vscode": {
   "interpreter": {
    "hash": "31f2aee4e71d21fbe5cf8b01ff0e069b9275f58929596ceb00d14d90e3e16cd6"
   }
  }
 },
 "nbformat": 4,
 "nbformat_minor": 2
}
