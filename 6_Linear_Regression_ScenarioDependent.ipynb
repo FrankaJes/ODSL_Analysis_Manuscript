{
 "cells": [
  {
   "cell_type": "code",
   "execution_count": 1,
   "metadata": {},
   "outputs": [],
   "source": [
    "import numpy as np\n",
    "import xarray as xr\n",
    "import pandas as pd\n",
    "\n",
    "from sklearn import linear_model\n",
    "from sklearn.linear_model import LinearRegression\n",
    "from sklearn import metrics\n",
    "from sklearn.metrics import mean_squared_error\n",
    "from sklearn.metrics import r2_score"
   ]
  },
  {
   "attachments": {},
   "cell_type": "markdown",
   "metadata": {},
   "source": [
    "## To compute the linear regression we need data files:\n",
    "- CMIP5_time_series.nc\n",
    "- CMIP5_time_series_smoothed.nc\n",
    "- CMIP5_time_series_smoothed_10yr.nc\n",
    "- CMIP6_time_series.nc\n",
    "- CMIP6_time_series_smoothed.nc\n",
    "- CMIP6_time_series_smoothed_10yr.nc\n",
    "\n",
    "In the next cell you can choose either the smoothed or unsmoothed time series."
   ]
  },
  {
   "cell_type": "code",
   "execution_count": 2,
   "metadata": {},
   "outputs": [],
   "source": [
    "data_choice = 'Smoothed'\n",
    "\n",
    "if data_choice == 'Unsmoothed':\n",
    "    dsCMIP5 = xr.open_dataset('Data/CMIP5_time_series.nc')\n",
    "    dsCMIP6 = xr.open_dataset('Data/CMIP6_time_series.nc')\n",
    "\n",
    "elif data_choice == 'Smoothed':\n",
    "    dsCMIP5 = xr.open_dataset('Data/CMIP5_time_series_smoothed.nc')\n",
    "    dsCMIP6 = xr.open_dataset('Data/CMIP6_time_series_smoothed.nc')\n",
    "\n",
    "elif data_choice == 'Smoothed_10yr':\n",
    "    dsCMIP5 = xr.open_dataset('Data/CMIP5_time_series_smoothed_10yr.nc')\n",
    "    dsCMIP6 = xr.open_dataset('Data/CMIP6_time_series_smoothed_10yr.nc')\n",
    "\n",
    "else:\n",
    "    print('data_choice is not specified correctly. Choose `Smoothed`, `Smoothed_10yr` or `Unsmoothed`')"
   ]
  },
  {
   "cell_type": "code",
   "execution_count": 4,
   "metadata": {},
   "outputs": [],
   "source": [
    "dsCMIP5_sce0 = xr.concat([dsCMIP5.isel(scenario=0),dsCMIP5.isel(scenario=1)*np.nan, dsCMIP5.isel(scenario=2)*np.nan],dim='scenario')\n",
    "dsCMIP5_sce1 = xr.concat([dsCMIP5.isel(scenario=0)*np.nan,dsCMIP5.isel(scenario=1), dsCMIP5.isel(scenario=2)*np.nan],dim='scenario')\n",
    "dsCMIP5_sce2 = xr.concat([dsCMIP5.isel(scenario=0)*np.nan,dsCMIP5.isel(scenario=1)*np.nan, dsCMIP5.isel(scenario=2)],dim='scenario')"
   ]
  },
  {
   "cell_type": "code",
   "execution_count": 5,
   "metadata": {},
   "outputs": [],
   "source": [
    "dsCMIP6_sce0 = xr.concat([dsCMIP6.isel(scenario=0),dsCMIP6.isel(scenario=1)*np.nan, dsCMIP6.isel(scenario=2)*np.nan],dim='scenario')\n",
    "dsCMIP6_sce1 = xr.concat([dsCMIP6.isel(scenario=0)*np.nan,dsCMIP6.isel(scenario=1), dsCMIP6.isel(scenario=2)*np.nan],dim='scenario')\n",
    "dsCMIP6_sce2 = xr.concat([dsCMIP6.isel(scenario=0)*np.nan,dsCMIP6.isel(scenario=1)*np.nan, dsCMIP6.isel(scenario=2)],dim='scenario')"
   ]
  },
  {
   "attachments": {},
   "cell_type": "markdown",
   "metadata": {},
   "source": [
    "## Functions for linear regression:\n",
    "- lin_reg_multi(varx, vary)"
   ]
  },
  {
   "cell_type": "code",
   "execution_count": 6,
   "metadata": {},
   "outputs": [],
   "source": [
    "def select_models(ds, varx1, vary, check, varx2=None):\n",
    "    '''\n",
    "    Check is either 'model', or 'scenario'\n",
    "    Find models for which both variables (varx1, vary) are available\n",
    "    Input is an xarray dataset (CMIP5ds, CMIP5ds_LF, CMIP6ds, CMIP6ds_LF). \n",
    "    If you want to check the scenarios per model, already select the model in the input: eg. CMIP5ds.sel(model=mod)\n",
    "    It returns the model/sce names of models/sces that have data for all three variables and returns the new dataset.\n",
    "    '''\n",
    "    x1 = ds[varx1].dropna(check,'all')[check].values\n",
    "    y = ds[vary].dropna(check,'all')[check].values\n",
    "    \n",
    "    if varx2 == None:\n",
    "        check_list = np.sort(list(set(x1)&set(y)))\n",
    "\n",
    "    if varx2 is not None:\n",
    "        x2 = ds[varx2].dropna(check,'all')[check].values\n",
    "        check_list = np.sort(list(set(x1)&set(x2)&set(y)))\n",
    "    \n",
    "    if check == 'model':\n",
    "        ds_new = ds.sel(model=check_list)\n",
    "        \n",
    "    elif check == 'scenario':\n",
    "        ds_new = ds.sel(scenario=check_list)\n",
    "    \n",
    "    return check_list, ds_new"
   ]
  },
  {
   "cell_type": "code",
   "execution_count": 7,
   "metadata": {},
   "outputs": [],
   "source": [
    "#%% Multi-linear regression\n",
    "def lin_reg_multi(varx, vary):\n",
    "    regr = linear_model.LinearRegression()\n",
    "\n",
    "    varx = varx.dropna()\n",
    "    vary = vary.dropna()\n",
    "\n",
    "    regr.fit(varx, vary)\n",
    "    \n",
    "    vary_pred = regr.predict(varx)\n",
    "\n",
    "    mse = mean_squared_error(vary, vary_pred)\n",
    "    r2 = r2_score(vary, vary_pred)\n",
    "    slope = regr.coef_\n",
    "    intercept = regr.intercept_\n",
    "    \n",
    "    return vary_pred, mse, r2, slope, intercept"
   ]
  },
  {
   "cell_type": "code",
   "execution_count": 8,
   "metadata": {},
   "outputs": [],
   "source": [
    "def lin_fit(ds, varx, mip):    \n",
    "    ds_new = select_models(ds, varx, 'zos', 'model')[1]\n",
    "    \n",
    "    nan_array_sce = np.ones(95)*np.nan\n",
    "    mods, sces = [],[]\n",
    "    dfs = []\n",
    "    mses, r2s, slope_varx, intercepts = [],[],[],[]\n",
    "    \n",
    "    for j, mod in enumerate(ds_new.model.values):\n",
    "        \n",
    "        if mod == 'GFDL-CM3':           # model does not have zos available for same scenarios as one of the regressors\n",
    "            pass \n",
    "        else:\n",
    "            sces_in_mod = select_models(ds_new.sel(model=mod), varx, 'zos', 'scenario')[0]\n",
    "            ds_mod = ds_new.sel(model=mod)\n",
    "            mods.append(mod)           # append model name\n",
    "            sces.append(sces_in_mod)   # append scenarios available for this model\n",
    "        \n",
    "            if mip == 'CMIP5': \n",
    "                end_hist = 2005\n",
    "                nan_num = 95\n",
    "                sce_names = ['rcp26','rcp45','rcp85']\n",
    "\n",
    "            elif mip == 'CMIP6':\n",
    "                end_hist = 2014\n",
    "                nan_num = 86\n",
    "                sce_names = ['ssp126','ssp245','ssp585']\n",
    "\n",
    "            ds_hist = ds_mod.sel(time=slice(1900,end_hist),scenario=sces_in_mod[0])  # select historical period for one sce\n",
    "            ds_sces = ds_mod.sel(time=slice(end_hist,2100))                          # select future period for all sces\n",
    "\n",
    "            DSL_mod, varx_mod = ds_hist.zos.values, ds_hist[varx].values      \n",
    "        \n",
    "            for sce in sce_names:        \n",
    "                ds_sce = ds_sces.sel(scenario=sce)\n",
    "            \n",
    "                zos = ds_sce.zos.values\n",
    "                varx_list = ds_sce[varx].values\n",
    "            \n",
    "                if(np.isnan(zos).any()) or (np.isnan(varx_list).any()):\n",
    "                    DSL_mod = np.append(DSL_mod, np.ones(nan_num)*np.nan)\n",
    "                    varx_mod = np.append(varx_mod, np.ones(nan_num)*np.nan)\n",
    "                else:\n",
    "                    DSL_mod = np.append(DSL_mod, zos)\n",
    "                    varx_mod = np.append(varx_mod, varx_list)\n",
    "            \n",
    "            # Store total data in dataframe for each model\n",
    "            d = {'DSL': DSL_mod, 'varx': varx_mod}\n",
    "            df = pd.DataFrame(data=d)    \n",
    "            dfs.append(df)\n",
    "         \n",
    "            # Compute regression for this model    \n",
    "            X = df[['varx']]\n",
    "            Y = df[['DSL']]\n",
    "        \n",
    "            #print(df)\n",
    "            linreg = lin_reg_multi(X,Y)\n",
    "            mse, r2, slope, intercept = linreg[1], linreg[2], linreg[3], linreg[4]\n",
    "        \n",
    "            mses.append(mse)\n",
    "            r2s.append(r2)\n",
    "            slope_varx.append(slope[0][0])\n",
    "            intercepts.append(intercept[0])\n",
    "\n",
    "    # Construct dataframe to store parameter values\n",
    "    d = {'model': mods, 'sces':sces, 'r2-score':r2s, 'alpha': intercepts, 'beta':slope_varx, 'mse': mses}\n",
    "    df_params = pd.DataFrame(data=d).set_index('model').round(4)\n",
    "            \n",
    "    return dfs, df_params"
   ]
  },
  {
   "cell_type": "code",
   "execution_count": 9,
   "metadata": {},
   "outputs": [],
   "source": [
    "def multi_lin_fit(ds, varx1, varx2, mip):\n",
    "    \n",
    "    ds_new = select_models(ds, varx1, 'zos','model',varx2)[1]\n",
    "    \n",
    "    nan_array_sce = np.ones(95)*np.nan\n",
    "    mods, sces = [],[]\n",
    "    dfs = []\n",
    "    mses, r2s, slope_varx1, slope_varx2, intercepts = [],[],[],[],[]\n",
    "    \n",
    "    for j, mod in enumerate(ds_new.model.values):\n",
    "        sces_in_mod = select_models(ds_new.sel(model=mod), varx1, 'zos', 'scenario', varx2)[0]\n",
    "        ds_mod = ds_new.sel(model=mod)\n",
    "        mods.append(mod)           # append model name\n",
    "        sces.append(sces_in_mod)   # append scenarios available for this model\n",
    "        \n",
    "        if mip == 'CMIP5': \n",
    "            end_hist = 2005\n",
    "            nan_num = 95\n",
    "            sce_names = ['rcp26','rcp45','rcp85']\n",
    "\n",
    "        elif mip == 'CMIP6':\n",
    "            end_hist = 2014\n",
    "            nan_num = 86\n",
    "            sce_names = ['ssp126','ssp245','ssp585']\n",
    "                \n",
    "        ds_hist = ds_mod.sel(time=slice(1900,end_hist),scenario=sces_in_mod[0])  # select historical period for one sce\n",
    "        ds_sces = ds_mod.sel(time=slice(end_hist,2100))                          # select future period for all sces\n",
    "\n",
    "        DSL_mod, varx1_mod, varx2_mod = ds_hist.zos.values, ds_hist[varx1].values, ds_hist[varx2].values        \n",
    "        \n",
    "            \n",
    "        for sce in sce_names:        \n",
    "            ds_sce = ds_sces.sel(scenario=sce)\n",
    "            \n",
    "            zos = ds_sce.zos.values\n",
    "            varx1_list = ds_sce[varx1].values\n",
    "            varx2_list = ds_sce[varx2].values\n",
    "            \n",
    "            if(np.isnan(zos).any()) or (np.isnan(varx1_list).any()) or (np.isnan(varx2_list).any()):\n",
    "                DSL_mod = np.append(DSL_mod, np.ones(nan_num)*np.nan)\n",
    "                varx1_mod = np.append(varx1_mod, np.ones(nan_num)*np.nan)\n",
    "                varx2_mod = np.append(varx2_mod, np.ones(nan_num)*np.nan)\n",
    "            else:\n",
    "                DSL_mod = np.append(DSL_mod, zos)\n",
    "                varx1_mod = np.append(varx1_mod, varx1_list)\n",
    "                varx2_mod = np.append(varx2_mod, varx2_list)\n",
    "            \n",
    "        # Store total data in dataframe for each model\n",
    "        d = {'DSL': DSL_mod, 'varx1': varx1_mod, 'varx2': varx2_mod}\n",
    "        df = pd.DataFrame(data=d)    \n",
    "        dfs.append(df)\n",
    "         \n",
    "        # Compute regression for this model    \n",
    "        X = df[['varx1','varx2']] \n",
    "        Y = df[['DSL']] \n",
    "        \n",
    "        #print(df)\n",
    "        linreg = lin_reg_multi(X,Y)\n",
    "        mse, r2, slope, intercept = linreg[1], linreg[2], linreg[3], linreg[4]\n",
    "        \n",
    "        mses.append(mse)\n",
    "        r2s.append(r2)\n",
    "        slope_varx1.append(slope[0][0])\n",
    "        slope_varx2.append(slope[0][1])\n",
    "        intercepts.append(intercept[0])\n",
    "    \n",
    "        \n",
    "    # Construct dataframe to store parameter values\n",
    "    d = {'model': mods, 'sces':sces, 'r2-score':r2s,'alpha': intercepts, 'beta1':slope_varx1, 'beta2': slope_varx2, 'mse': mses}\n",
    "    df_params = pd.DataFrame(data=d).set_index('model').round(4)\n",
    "    \n",
    "            \n",
    "    return dfs, df_params"
   ]
  },
  {
   "attachments": {},
   "cell_type": "markdown",
   "metadata": {},
   "source": [
    "## Single regression"
   ]
  },
  {
   "cell_type": "code",
   "execution_count": 15,
   "metadata": {},
   "outputs": [],
   "source": [
    "LR_CMIP5_GSAT_ts,   LR_CMIP5_GSAT    = lin_fit(dsCMIP5, 'GSAT',   'CMIP5')\n",
    "LR_CMIP5_GMTSL_ts,  LR_CMIP5_GMTSL   = lin_fit(dsCMIP5, 'GMTSL',  'CMIP5')\n",
    "LR_CMIP5_AMOC35_ts, LR_CMIP5_AMOC35  = lin_fit(dsCMIP5, 'AMOC35', 'CMIP5')\n",
    "LR_CMIP5_AMOC26_ts, LR_CMIP5_AMOC26  = lin_fit(dsCMIP5, 'AMOC26', 'CMIP5')\n",
    "\n",
    "LR_CMIP6_GSAT_ts,   LR_CMIP6_GSAT    = lin_fit(dsCMIP6, 'GSAT',   'CMIP6')\n",
    "LR_CMIP6_GMTSL_ts,  LR_CMIP6_GMTSL   = lin_fit(dsCMIP6, 'GMTSL',  'CMIP6')\n",
    "LR_CMIP6_AMOC35_ts, LR_CMIP6_AMOC35  = lin_fit(dsCMIP6, 'AMOC35', 'CMIP6')\n",
    "LR_CMIP6_AMOC26_ts, LR_CMIP6_AMOC26  = lin_fit(dsCMIP6, 'AMOC26', 'CMIP6')"
   ]
  },
  {
   "cell_type": "code",
   "execution_count": 16,
   "metadata": {},
   "outputs": [],
   "source": [
    "LR_CMIP5_GSAT_ts_sce0,   LR_CMIP5_GSAT_sce0    = lin_fit(dsCMIP5_sce0, 'GSAT',   'CMIP5')\n",
    "LR_CMIP5_GSAT_ts_sce1,   LR_CMIP5_GSAT_sce1    = lin_fit(dsCMIP5_sce1, 'GSAT',   'CMIP5')\n",
    "LR_CMIP5_GSAT_ts_sce2,   LR_CMIP5_GSAT_sce2    = lin_fit(dsCMIP5_sce2, 'GSAT',   'CMIP5')\n",
    "\n",
    "LR_CMIP5_GMTSL_ts_sce0,   LR_CMIP5_GMTSL_sce0    = lin_fit(dsCMIP5_sce0, 'GMTSL',   'CMIP5')\n",
    "LR_CMIP5_GMTSL_ts_sce1,   LR_CMIP5_GMTSL_sce1    = lin_fit(dsCMIP5_sce1, 'GMTSL',   'CMIP5')\n",
    "LR_CMIP5_GMTSL_ts_sce2,   LR_CMIP5_GMTSL_sce2    = lin_fit(dsCMIP5_sce2, 'GMTSL',   'CMIP5')\n",
    "\n",
    "LR_CMIP5_AMOC35_ts_sce0,   LR_CMIP5_AMOC35_sce0    = lin_fit(dsCMIP5_sce0, 'AMOC35',   'CMIP5')\n",
    "LR_CMIP5_AMOC35_ts_sce1,   LR_CMIP5_AMOC35_sce1    = lin_fit(dsCMIP5_sce1, 'AMOC35',   'CMIP5')\n",
    "LR_CMIP5_AMOC35_ts_sce2,   LR_CMIP5_AMOC35_sce2    = lin_fit(dsCMIP5_sce2, 'AMOC35',   'CMIP5')\n",
    "\n",
    "\n",
    "LR_CMIP6_GSAT_ts_sce0,   LR_CMIP6_GSAT_sce0    = lin_fit(dsCMIP6_sce0, 'GSAT',   'CMIP6')\n",
    "LR_CMIP6_GSAT_ts_sce1,   LR_CMIP6_GSAT_sce1    = lin_fit(dsCMIP6_sce1, 'GSAT',   'CMIP6')\n",
    "LR_CMIP6_GSAT_ts_sce2,   LR_CMIP6_GSAT_sce2    = lin_fit(dsCMIP6_sce2, 'GSAT',   'CMIP6')\n",
    "\n",
    "LR_CMIP6_GMTSL_ts_sce0,   LR_CMIP6_GMTSL_sce0    = lin_fit(dsCMIP6_sce0, 'GMTSL',   'CMIP6')\n",
    "LR_CMIP6_GMTSL_ts_sce1,   LR_CMIP6_GMTSL_sce1    = lin_fit(dsCMIP6_sce1, 'GMTSL',   'CMIP6')\n",
    "LR_CMIP6_GMTSL_ts_sce2,   LR_CMIP6_GMTSL_sce2    = lin_fit(dsCMIP6_sce2, 'GMTSL',   'CMIP6')\n",
    "\n",
    "LR_CMIP6_AMOC35_ts_sce0,   LR_CMIP6_AMOC35_sce0    = lin_fit(dsCMIP6_sce0, 'AMOC35',   'CMIP6')\n",
    "LR_CMIP6_AMOC35_ts_sce1,   LR_CMIP6_AMOC35_sce1    = lin_fit(dsCMIP6_sce1, 'AMOC35',   'CMIP6')\n",
    "LR_CMIP6_AMOC35_ts_sce2,   LR_CMIP6_AMOC35_sce2    = lin_fit(dsCMIP6_sce2, 'AMOC35',   'CMIP6')"
   ]
  },
  {
   "cell_type": "code",
   "execution_count": 17,
   "metadata": {},
   "outputs": [
    {
     "name": "stdout",
     "output_type": "stream",
     "text": [
      "CMIP5 GSAT\n",
      "sceal rmse: 3.1 b1: 3.62\n",
      "sce26 rmse: 2.28 b1: 3.47\n",
      "sce45 rmse: 2.11 b1: 3.62\n",
      "sce85 rmse: 2.31 b1: 3.57\n",
      "CMIP6 GSAT\n",
      "sceal rmse: 10.19 b1: 4.58\n",
      "sce26 rmse: 6.53 b1: 6.05\n",
      "sce45 rmse: 4.06 b1: 5.42\n",
      "sce85 rmse: 4.35 b1: 4.23\n"
     ]
    }
   ],
   "source": [
    "print('CMIP5 GSAT')\n",
    "print('sceal rmse:',np.round(LR_CMIP5_GSAT['mse'].mean(),2),      'b1:', np.round(LR_CMIP5_GSAT['beta'].mean(),2))\n",
    "print('sce26 rmse:',np.round(LR_CMIP5_GSAT_sce0['mse'].mean(),2), 'b1:', np.round(LR_CMIP5_GSAT_sce0['beta'].mean(),2))\n",
    "print('sce45 rmse:',np.round(LR_CMIP5_GSAT_sce1['mse'].mean(),2), 'b1:', np.round(LR_CMIP5_GSAT_sce1['beta'].mean(),2))\n",
    "print('sce85 rmse:',np.round(LR_CMIP5_GSAT_sce2['mse'].mean(),2), 'b1:', np.round(LR_CMIP5_GSAT_sce2['beta'].mean(),2))\n",
    "print('CMIP6 GSAT')\n",
    "print('sceal rmse:',np.round(LR_CMIP6_GSAT['mse'].mean(),2), 'b1:', np.round(LR_CMIP6_GSAT['beta'].mean(),2))\n",
    "print('sce26 rmse:',np.round(LR_CMIP6_GSAT_sce0['mse'].mean(),2), 'b1:', np.round(LR_CMIP6_GSAT_sce0['beta'].mean(),2))\n",
    "print('sce45 rmse:',np.round(LR_CMIP6_GSAT_sce1['mse'].mean(),2), 'b1:', np.round(LR_CMIP6_GSAT_sce1['beta'].mean(),2))\n",
    "print('sce85 rmse:',np.round(LR_CMIP6_GSAT_sce2['mse'].mean(),2), 'b1:', np.round(LR_CMIP6_GSAT_sce2['beta'].mean(),2))\n"
   ]
  },
  {
   "cell_type": "code",
   "execution_count": 18,
   "metadata": {},
   "outputs": [
    {
     "name": "stdout",
     "output_type": "stream",
     "text": [
      "CMIP5 GMTSL\n",
      "sceal rmse: 2.82 b1: 0.54\n",
      "sce26 rmse: 2.25 b1: 0.48\n",
      "sce45 rmse: 2.1 b1: 0.54\n",
      "sce85 rmse: 2.27 b1: 0.55\n",
      "CMIP6 GTMSL\n",
      "sceal rmse: 7.17 b1: 0.87\n",
      "sce26 rmse: 4.03 b1: 0.99\n",
      "sce45 rmse: 4.21 b1: 0.96\n",
      "sce85 rmse: 5.88 b1: 0.86\n"
     ]
    }
   ],
   "source": [
    "print('CMIP5 GMTSL')\n",
    "print('sceal rmse:',np.round(LR_CMIP5_GMTSL['mse'].mean(),2),      'b1:', np.round(LR_CMIP5_GMTSL['beta'].mean(),2))\n",
    "print('sce26 rmse:',np.round(LR_CMIP5_GMTSL_sce0['mse'].mean(),2), 'b1:', np.round(LR_CMIP5_GMTSL_sce0['beta'].mean(),2))\n",
    "print('sce45 rmse:',np.round(LR_CMIP5_GMTSL_sce1['mse'].mean(),2), 'b1:', np.round(LR_CMIP5_GMTSL_sce1['beta'].mean(),2))\n",
    "print('sce85 rmse:',np.round(LR_CMIP5_GMTSL_sce2['mse'].mean(),2), 'b1:', np.round(LR_CMIP5_GMTSL_sce2['beta'].mean(),2))\n",
    "print('CMIP6 GTMSL')\n",
    "print('sceal rmse:',np.round(LR_CMIP6_GMTSL['mse'].mean(),2),      'b1:', np.round(LR_CMIP6_GMTSL['beta'].mean(),2))\n",
    "print('sce26 rmse:',np.round(LR_CMIP6_GMTSL_sce0['mse'].mean(),2), 'b1:', np.round(LR_CMIP6_GMTSL_sce0['beta'].mean(),2))\n",
    "print('sce45 rmse:',np.round(LR_CMIP6_GMTSL_sce1['mse'].mean(),2), 'b1:', np.round(LR_CMIP6_GMTSL_sce1['beta'].mean(),2))\n",
    "print('sce85 rmse:',np.round(LR_CMIP6_GMTSL_sce2['mse'].mean(),2), 'b1:', np.round(LR_CMIP6_GMTSL_sce2['beta'].mean(),2))\n"
   ]
  },
  {
   "cell_type": "code",
   "execution_count": 19,
   "metadata": {},
   "outputs": [
    {
     "name": "stdout",
     "output_type": "stream",
     "text": [
      "CMIP5 AMOC35\n",
      "sceal rmse: 5.43 b1: -2.44\n",
      "sce26 rmse: 3.11 b1: -1.77\n",
      "sce45 rmse: 4.25 b1: -2.35\n",
      "sce85 rmse: 5.58 b1: -2.53\n",
      "CMIP6 AMOC35\n",
      "sceal rmse: 7.12 b1: -2.11\n",
      "sce26 rmse: 6.86 b1: -2.08\n",
      "sce45 rmse: 6.86 b1: -2.16\n",
      "sce85 rmse: 7.68 b1: -2.15\n"
     ]
    }
   ],
   "source": [
    "print('CMIP5 AMOC35')\n",
    "print('sceal rmse:',np.round(LR_CMIP5_AMOC35['mse'].mean(),2),      'b1:', np.round(LR_CMIP5_AMOC35['beta'].mean(),2))\n",
    "print('sce26 rmse:',np.round(LR_CMIP5_AMOC35_sce0['mse'].mean(),2), 'b1:', np.round(LR_CMIP5_AMOC35_sce0['beta'].mean(),2))\n",
    "print('sce45 rmse:',np.round(LR_CMIP5_AMOC35_sce1['mse'].mean(),2), 'b1:', np.round(LR_CMIP5_AMOC35_sce1['beta'].mean(),2))\n",
    "print('sce85 rmse:',np.round(LR_CMIP5_AMOC35_sce2['mse'].mean(),2), 'b1:', np.round(LR_CMIP5_AMOC35_sce2['beta'].mean(),2))\n",
    "print('CMIP6 AMOC35')\n",
    "print('sceal rmse:',np.round(LR_CMIP6_AMOC35['mse'].mean(),2),      'b1:', np.round(LR_CMIP6_AMOC35['beta'].mean(),2))\n",
    "print('sce26 rmse:',np.round(LR_CMIP6_AMOC35_sce0['mse'].mean(),2), 'b1:', np.round(LR_CMIP6_AMOC35_sce0['beta'].mean(),2))\n",
    "print('sce45 rmse:',np.round(LR_CMIP6_AMOC35_sce1['mse'].mean(),2), 'b1:', np.round(LR_CMIP6_AMOC35_sce1['beta'].mean(),2))\n",
    "print('sce85 rmse:',np.round(LR_CMIP6_AMOC35_sce2['mse'].mean(),2), 'b1:', np.round(LR_CMIP6_AMOC35_sce2['beta'].mean(),2))\n"
   ]
  },
  {
   "cell_type": "markdown",
   "metadata": {},
   "source": [
    "## Multiple regression"
   ]
  },
  {
   "cell_type": "code",
   "execution_count": 20,
   "metadata": {},
   "outputs": [],
   "source": [
    "LR_CMIP5_GSAT_GMTSL     = multi_lin_fit(dsCMIP5, 'GSAT',  'GMTSL',  'CMIP5')[1]\n",
    "LR_CMIP5_GSAT_AMOC35    = multi_lin_fit(dsCMIP5, 'GSAT',  'AMOC35', 'CMIP5')[1]\n",
    "LR_CMIP5_GSAT_AMOC26    = multi_lin_fit(dsCMIP5, 'GSAT',  'AMOC26', 'CMIP5')[1]\n",
    "LR_CMIP5_GMTSL_AMOC35   = multi_lin_fit(dsCMIP5, 'GMTSL', 'AMOC35', 'CMIP5')[1]\n",
    "LR_CMIP5_GMTSL_AMOC26   = multi_lin_fit(dsCMIP5, 'GMTSL', 'AMOC26', 'CMIP5')[1]\n",
    "\n",
    "LR_CMIP6_GSAT_GMTSL     = multi_lin_fit(dsCMIP6, 'GSAT',  'GMTSL',  'CMIP6')[1]\n",
    "LR_CMIP6_GSAT_AMOC35    = multi_lin_fit(dsCMIP6, 'GSAT',  'AMOC35', 'CMIP6')[1]\n",
    "LR_CMIP6_GSAT_AMOC26    = multi_lin_fit(dsCMIP6, 'GSAT',  'AMOC26', 'CMIP6')[1]\n",
    "LR_CMIP6_GMTSL_AMOC35   = multi_lin_fit(dsCMIP6, 'GMTSL', 'AMOC35', 'CMIP6')[1]\n",
    "LR_CMIP6_GMTSL_AMOC26   = multi_lin_fit(dsCMIP6, 'GMTSL', 'AMOC26', 'CMIP6')[1]"
   ]
  },
  {
   "cell_type": "code",
   "execution_count": 21,
   "metadata": {},
   "outputs": [],
   "source": [
    "LR_CMIP5_GSAT_GMTSL_sce0     = multi_lin_fit(dsCMIP5_sce0, 'GSAT',  'GMTSL',  'CMIP5')[1]\n",
    "LR_CMIP5_GSAT_AMOC35_sce0    = multi_lin_fit(dsCMIP5_sce0, 'GSAT',  'AMOC35', 'CMIP5')[1]\n",
    "LR_CMIP5_GMTSL_AMOC35_sce0   = multi_lin_fit(dsCMIP5_sce0, 'GMTSL', 'AMOC35', 'CMIP5')[1]\n",
    "\n",
    "LR_CMIP5_GSAT_GMTSL_sce1     = multi_lin_fit(dsCMIP5_sce1, 'GSAT',  'GMTSL',  'CMIP5')[1]\n",
    "LR_CMIP5_GSAT_AMOC35_sce1    = multi_lin_fit(dsCMIP5_sce1, 'GSAT',  'AMOC35', 'CMIP5')[1]\n",
    "LR_CMIP5_GMTSL_AMOC35_sce1   = multi_lin_fit(dsCMIP5_sce1, 'GMTSL', 'AMOC35', 'CMIP5')[1]\n",
    "\n",
    "LR_CMIP5_GSAT_GMTSL_sce2     = multi_lin_fit(dsCMIP5_sce2, 'GSAT',  'GMTSL',  'CMIP5')[1]\n",
    "LR_CMIP5_GSAT_AMOC35_sce2    = multi_lin_fit(dsCMIP5_sce2, 'GSAT',  'AMOC35', 'CMIP5')[1]\n",
    "LR_CMIP5_GMTSL_AMOC35_sce2   = multi_lin_fit(dsCMIP5_sce2, 'GMTSL', 'AMOC35', 'CMIP5')[1]\n",
    "\n",
    "LR_CMIP6_GSAT_GMTSL_sce0     = multi_lin_fit(dsCMIP6_sce0, 'GSAT',  'GMTSL',  'CMIP6')[1]\n",
    "LR_CMIP6_GSAT_AMOC35_sce0    = multi_lin_fit(dsCMIP6_sce0, 'GSAT',  'AMOC35', 'CMIP6')[1]\n",
    "LR_CMIP6_GMTSL_AMOC35_sce0   = multi_lin_fit(dsCMIP6_sce0, 'GMTSL', 'AMOC35', 'CMIP6')[1]\n",
    "\n",
    "LR_CMIP6_GSAT_GMTSL_sce1     = multi_lin_fit(dsCMIP6_sce1, 'GSAT',  'GMTSL',  'CMIP6')[1]\n",
    "LR_CMIP6_GSAT_AMOC35_sce1    = multi_lin_fit(dsCMIP6_sce1, 'GSAT',  'AMOC35', 'CMIP6')[1]\n",
    "LR_CMIP6_GMTSL_AMOC35_sce1   = multi_lin_fit(dsCMIP6_sce1, 'GMTSL', 'AMOC35', 'CMIP6')[1]\n",
    "\n",
    "LR_CMIP6_GSAT_GMTSL_sce2     = multi_lin_fit(dsCMIP6_sce2, 'GSAT',  'GMTSL',  'CMIP6')[1]\n",
    "LR_CMIP6_GSAT_AMOC35_sce2    = multi_lin_fit(dsCMIP6_sce2, 'GSAT',  'AMOC35', 'CMIP6')[1]\n",
    "LR_CMIP6_GMTSL_AMOC35_sce2   = multi_lin_fit(dsCMIP6_sce2, 'GMTSL', 'AMOC35', 'CMIP6')[1]\n"
   ]
  },
  {
   "cell_type": "code",
   "execution_count": 22,
   "metadata": {},
   "outputs": [
    {
     "name": "stdout",
     "output_type": "stream",
     "text": [
      "CMIP5 GSAT_GMTSL\n",
      "sceal rmse: 2.36 b1: 2.08 b2: 0.29\n",
      "sce26 rmse: 1.65 b1: 2.44 b2: 0.21\n",
      "sce45 rmse: 1.55 b1: 2.12 b2: 0.28\n",
      "sce85 rmse: 1.64 b1: 3.28 b2: 0.1\n",
      "CMIP6 GSAT_GMTSL\n",
      "sceal rmse: 6.25 b1: 1.66 b2: 0.62\n",
      "sce26 rmse: 2.91 b1: 2.98 b2: 0.62\n",
      "sce45 rmse: 2.92 b1: 4.02 b2: 0.41\n",
      "sce85 rmse: 3.38 b1: 6.96 b2: -0.24\n"
     ]
    }
   ],
   "source": [
    "print('CMIP5 GSAT_GMTSL')\n",
    "print('sceal rmse:',np.round(LR_CMIP5_GSAT_GMTSL['mse'].mean(),2),      'b1:', np.round(LR_CMIP5_GSAT_GMTSL['beta1'].mean(),2), 'b2:', np.round(LR_CMIP5_GSAT_GMTSL['beta2'].mean(),2))\n",
    "print('sce26 rmse:',np.round(LR_CMIP5_GSAT_GMTSL_sce0['mse'].mean(),2), 'b1:', np.round(LR_CMIP5_GSAT_GMTSL_sce0['beta1'].mean(),2), 'b2:', np.round(LR_CMIP5_GSAT_GMTSL_sce0['beta2'].mean(),2))\n",
    "print('sce45 rmse:',np.round(LR_CMIP5_GSAT_GMTSL_sce1['mse'].mean(),2), 'b1:', np.round(LR_CMIP5_GSAT_GMTSL_sce1['beta1'].mean(),2), 'b2:', np.round(LR_CMIP5_GSAT_GMTSL_sce1['beta2'].mean(),2))\n",
    "print('sce85 rmse:',np.round(LR_CMIP5_GSAT_GMTSL_sce2['mse'].mean(),2), 'b1:', np.round(LR_CMIP5_GSAT_GMTSL_sce2['beta1'].mean(),2), 'b2:', np.round(LR_CMIP5_GSAT_GMTSL_sce2['beta2'].mean(),2))\n",
    "print('CMIP6 GSAT_GMTSL')\n",
    "print('sceal rmse:',np.round(LR_CMIP6_GSAT_GMTSL['mse'].mean(),2),      'b1:', np.round(LR_CMIP6_GSAT_GMTSL['beta1'].mean(),2),      'b2:', np.round(LR_CMIP6_GSAT_GMTSL['beta2'].mean(),2))\n",
    "print('sce26 rmse:',np.round(LR_CMIP6_GSAT_GMTSL_sce0['mse'].mean(),2), 'b1:', np.round(LR_CMIP6_GSAT_GMTSL_sce0['beta1'].mean(),2), 'b2:', np.round(LR_CMIP6_GSAT_GMTSL_sce0['beta2'].mean(),2))\n",
    "print('sce45 rmse:',np.round(LR_CMIP6_GSAT_GMTSL_sce1['mse'].mean(),2), 'b1:', np.round(LR_CMIP6_GSAT_GMTSL_sce1['beta1'].mean(),2), 'b2:', np.round(LR_CMIP6_GSAT_GMTSL_sce1['beta2'].mean(),2))\n",
    "print('sce85 rmse:',np.round(LR_CMIP6_GSAT_GMTSL_sce2['mse'].mean(),2), 'b1:', np.round(LR_CMIP6_GSAT_GMTSL_sce2['beta1'].mean(),2), 'b2:', np.round(LR_CMIP6_GSAT_GMTSL_sce2['beta2'].mean(),2))\n"
   ]
  },
  {
   "cell_type": "code",
   "execution_count": 23,
   "metadata": {},
   "outputs": [
    {
     "name": "stdout",
     "output_type": "stream",
     "text": [
      "CMIP5 GSAT_AMOC35\n",
      "sceal rmse: 2.58 b1: 2.75 b2: -0.64\n",
      "sce26 rmse: 1.75 b1: 2.3 b2: -0.69\n",
      "sce45 rmse: 1.75 b1: 3.04 b2: -0.6\n",
      "sce85 rmse: 1.8 b1: 3.48 b2: -0.31\n",
      "CMIP6 GSAT_AMOC35\n",
      "sceal rmse: 4.01 b1: 1.93 b2: -1.29\n",
      "sce26 rmse: 2.56 b1: 3.18 b2: -1.01\n",
      "sce45 rmse: 2.31 b1: 3.5 b2: -0.8\n",
      "sce85 rmse: 2.83 b1: 2.84 b2: -0.79\n"
     ]
    }
   ],
   "source": [
    "print('CMIP5 GSAT_AMOC35')\n",
    "print('sceal rmse:',np.round(LR_CMIP5_GSAT_AMOC35['mse'].mean(),2),      'b1:', np.round(LR_CMIP5_GSAT_AMOC35['beta1'].mean(),2), 'b2:', np.round(LR_CMIP5_GSAT_AMOC35['beta2'].mean(),2))\n",
    "print('sce26 rmse:',np.round(LR_CMIP5_GSAT_AMOC35_sce0['mse'].mean(),2), 'b1:', np.round(LR_CMIP5_GSAT_AMOC35_sce0['beta1'].mean(),2), 'b2:', np.round(LR_CMIP5_GSAT_AMOC35_sce0['beta2'].mean(),2))\n",
    "print('sce45 rmse:',np.round(LR_CMIP5_GSAT_AMOC35_sce1['mse'].mean(),2), 'b1:',                  np.round(LR_CMIP5_GSAT_AMOC35_sce1['beta1'].mean(),2), 'b2:', np.round(LR_CMIP5_GSAT_AMOC35_sce1['beta2'].mean(),2))\n",
    "print('sce85 rmse:',np.round(LR_CMIP5_GSAT_AMOC35_sce2['mse'].mean(),2), 'b1:', np.round(LR_CMIP5_GSAT_AMOC35_sce2['beta1'].mean(),2), 'b2:', np.round(LR_CMIP5_GSAT_AMOC35_sce2['beta2'].mean(),2))\n",
    "print('CMIP6 GSAT_AMOC35')\n",
    "print('sceal rmse:',np.round(LR_CMIP6_GSAT_AMOC35['mse'].mean(),2),      'b1:', np.round(LR_CMIP6_GSAT_AMOC35['beta1'].mean(),2),      'b2:', np.round(LR_CMIP6_GSAT_AMOC35['beta2'].mean(),2))\n",
    "print('sce26 rmse:',np.round(LR_CMIP6_GSAT_AMOC35_sce0['mse'].mean(),2), 'b1:', np.round(LR_CMIP6_GSAT_AMOC35_sce0['beta1'].mean(),2), 'b2:', np.round(LR_CMIP6_GSAT_AMOC35_sce0['beta2'].mean(),2))\n",
    "print('sce45 rmse:',np.round(LR_CMIP6_GSAT_AMOC35_sce1['mse'].mean(),2), 'b1:', np.round(LR_CMIP6_GSAT_AMOC35_sce1['beta1'].mean(),2), 'b2:', np.round(LR_CMIP6_GSAT_AMOC35_sce1['beta2'].mean(),2))\n",
    "print('sce85 rmse:',np.round(LR_CMIP6_GSAT_AMOC35_sce2['mse'].mean(),2), 'b1:', np.round(LR_CMIP6_GSAT_AMOC35_sce2['beta1'].mean(),2), 'b2:', np.round(LR_CMIP6_GSAT_AMOC35_sce2['beta2'].mean(),2))\n"
   ]
  },
  {
   "cell_type": "code",
   "execution_count": 24,
   "metadata": {},
   "outputs": [
    {
     "name": "stdout",
     "output_type": "stream",
     "text": [
      "CMIP5 GSAT_AMOC35\n",
      "sceal rmse: 2.32 b1: 0.4 b2: -0.82\n",
      "sce26 rmse: 1.65 b1: 0.3 b2: -0.9\n",
      "sce45 rmse: 1.7 b1: 0.42 b2: -0.78\n",
      "sce85 rmse: 1.98 b1: 0.51 b2: -0.34\n",
      "CMIP6 GSAT_AMOC35\n",
      "sceal rmse: 4.42 b1: 0.41 b2: -1.37\n",
      "sce26 rmse: 2.58 b1: 0.57 b2: -1.0\n",
      "sce45 rmse: 2.52 b1: 0.55 b2: -1.09\n",
      "sce85 rmse: 3.26 b1: 0.48 b2: -1.15\n"
     ]
    }
   ],
   "source": [
    "print('CMIP5 GSAT_AMOC35')\n",
    "print('sceal rmse:',np.round(LR_CMIP5_GMTSL_AMOC35['mse'].mean(),2),      'b1:', np.round(LR_CMIP5_GMTSL_AMOC35['beta1'].mean(),2),      'b2:', np.round(LR_CMIP5_GMTSL_AMOC35['beta2'].mean(),2))\n",
    "print('sce26 rmse:',np.round(LR_CMIP5_GMTSL_AMOC35_sce0['mse'].mean(),2), 'b1:', np.round(LR_CMIP5_GMTSL_AMOC35_sce0['beta1'].mean(),2), 'b2:', np.round(LR_CMIP5_GMTSL_AMOC35_sce0['beta2'].mean(),2))\n",
    "print('sce45 rmse:',np.round(LR_CMIP5_GMTSL_AMOC35_sce1['mse'].mean(),2), 'b1:', np.round(LR_CMIP5_GMTSL_AMOC35_sce1['beta1'].mean(),2), 'b2:', np.round(LR_CMIP5_GMTSL_AMOC35_sce1['beta2'].mean(),2))\n",
    "print('sce85 rmse:',np.round(LR_CMIP5_GMTSL_AMOC35_sce2['mse'].mean(),2), 'b1:', np.round(LR_CMIP5_GMTSL_AMOC35_sce2['beta1'].mean(),2), 'b2:', np.round(LR_CMIP5_GMTSL_AMOC35_sce2['beta2'].mean(),2))\n",
    "print('CMIP6 GSAT_AMOC35')\n",
    "print('sceal rmse:',np.round(LR_CMIP6_GMTSL_AMOC35['mse'].mean(),2),      'b1:', np.round(LR_CMIP6_GMTSL_AMOC35['beta1'].mean(),2),      'b2:', np.round(LR_CMIP6_GMTSL_AMOC35['beta2'].mean(),2))\n",
    "print('sce26 rmse:',np.round(LR_CMIP6_GMTSL_AMOC35_sce0['mse'].mean(),2), 'b1:', np.round(LR_CMIP6_GMTSL_AMOC35_sce0['beta1'].mean(),2), 'b2:', np.round(LR_CMIP6_GMTSL_AMOC35_sce0['beta2'].mean(),2))\n",
    "print('sce45 rmse:',np.round(LR_CMIP6_GMTSL_AMOC35_sce1['mse'].mean(),2), 'b1:', np.round(LR_CMIP6_GMTSL_AMOC35_sce1['beta1'].mean(),2), 'b2:', np.round(LR_CMIP6_GMTSL_AMOC35_sce1['beta2'].mean(),2))\n",
    "print('sce85 rmse:',np.round(LR_CMIP6_GMTSL_AMOC35_sce2['mse'].mean(),2), 'b1:', np.round(LR_CMIP6_GMTSL_AMOC35_sce2['beta1'].mean(),2), 'b2:', np.round(LR_CMIP6_GMTSL_AMOC35_sce2['beta2'].mean(),2))\n"
   ]
  },
  {
   "cell_type": "code",
   "execution_count": null,
   "metadata": {},
   "outputs": [],
   "source": []
  }
 ],
 "metadata": {
  "kernelspec": {
   "display_name": "firstEnv",
   "language": "python",
   "name": "firstenv"
  },
  "language_info": {
   "codemirror_mode": {
    "name": "ipython",
    "version": 3
   },
   "file_extension": ".py",
   "mimetype": "text/x-python",
   "name": "python",
   "nbconvert_exporter": "python",
   "pygments_lexer": "ipython3",
   "version": "3.9.15"
  },
  "orig_nbformat": 4,
  "vscode": {
   "interpreter": {
    "hash": "504f1f077da4e8d174c498033585507bb748febc0d77a81e7439049bc98607b6"
   }
  }
 },
 "nbformat": 4,
 "nbformat_minor": 2
}
